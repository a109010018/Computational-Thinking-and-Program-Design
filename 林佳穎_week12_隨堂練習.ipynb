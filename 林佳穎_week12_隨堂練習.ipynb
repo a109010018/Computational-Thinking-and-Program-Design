{
  "nbformat": 4,
  "nbformat_minor": 0,
  "metadata": {
    "kernelspec": {
      "display_name": "Python 3",
      "language": "python",
      "name": "python3"
    },
    "language_info": {
      "codemirror_mode": {
        "name": "ipython",
        "version": 3
      },
      "file_extension": ".py",
      "mimetype": "text/x-python",
      "name": "python",
      "nbconvert_exporter": "python",
      "pygments_lexer": "ipython3",
      "version": "3.8.5"
    },
    "colab": {
      "name": "林佳穎-week12-隨堂練習.ipynb",
      "provenance": [],
      "include_colab_link": true
    }
  },
  "cells": [
    {
      "cell_type": "markdown",
      "metadata": {
        "id": "view-in-github",
        "colab_type": "text"
      },
      "source": [
        "<a href=\"https://colab.research.google.com/github/a109010018/Computational-Thinking-and-Program-Design/blob/main/%E6%9E%97%E4%BD%B3%E7%A9%8E_week12_%E9%9A%A8%E5%A0%82%E7%B7%B4%E7%BF%92.ipynb\" target=\"_parent\"><img src=\"https://colab.research.google.com/assets/colab-badge.svg\" alt=\"Open In Colab\"/></a>"
      ]
    },
    {
      "cell_type": "markdown",
      "metadata": {
        "id": "50KrsHMPn0Zh"
      },
      "source": [
        "### 1. 單向選擇\n"
      ]
    },
    {
      "cell_type": "code",
      "metadata": {
        "id": "LLL3fQZen0Zp"
      },
      "source": [
        "## 範例：比較數字（一）: if\n",
        "\n",
        "In [3]: ## 數字資料 （一）\n",
        "   ...: num = int(input(\"請輸入一個數字: \"))\n",
        "   ...: if num > 0:\n",
        "   ...: \tprint(\"數字為正數\")\n",
        "   ...: print(\"比較完畢\")\n",
        "   ...: # 輸入5, 10, -3看結果\n",
        "\n",
        "請輸入一個數字: 5\n",
        "數字為正數\n",
        "比較完畢"
      ],
      "execution_count": null,
      "outputs": []
    },
    {
      "cell_type": "code",
      "metadata": {
        "id": "n_HYO41Yn0Zq",
        "colab": {
          "base_uri": "https://localhost:8080/"
        },
        "outputId": "6f342b6d-eb24-4801-84c7-e234886679a0"
      },
      "source": [
        "num=5\n",
        "if num > 0:\n",
        " print(\"The number is positive\")\n",
        "print('Finish')"
      ],
      "execution_count": 2,
      "outputs": [
        {
          "output_type": "stream",
          "text": [
            "The number is positive\n",
            "Finish\n"
          ],
          "name": "stdout"
        }
      ]
    },
    {
      "cell_type": "code",
      "metadata": {
        "id": "Qgoev48Hn0Zq"
      },
      "source": [
        "## 範例：比較數字（二）:串接if\n",
        "\n",
        "In [5]: num = int(input(\"輸入一個數字： \"))\n",
        "   ...: \n",
        "   ...: if num > 0:\n",
        "   ...: \tprint(\"是正數\")\n",
        "   ...: if num < 0:\n",
        "   ...: \tprint(\"是負數\")\n",
        "   ...: if num == 0:\n",
        "   ...: \tprint(\"數字是0\")\n",
        "   ...: print(\"比較完畢！\")\n",
        "\n",
        "輸入一個數字： 5\n",
        "是正數\n",
        "比較完畢！"
      ],
      "execution_count": null,
      "outputs": []
    },
    {
      "cell_type": "code",
      "metadata": {
        "id": "8FsC7G-Kn0Zr",
        "colab": {
          "base_uri": "https://localhost:8080/"
        },
        "outputId": "d282b6df-21a1-4ba9-c15f-cb220c4d2072"
      },
      "source": [
        "num=int(input(\"輸入一個數字:\"))\n",
        "if num > 0:\n",
        "  print(\"是正數\")\n",
        "if num < 0:\n",
        "  print(\"是負數\")\n",
        "if num == 0:\n",
        "  print(\"數字是0\")\n",
        "print(\"比較完畢!\")"
      ],
      "execution_count": 7,
      "outputs": [
        {
          "output_type": "stream",
          "text": [
            "輸入一個數字:-2\n",
            "是負數\n",
            "比較完畢!\n"
          ],
          "name": "stdout"
        }
      ]
    },
    {
      "cell_type": "code",
      "metadata": {
        "id": "QWB1Azbmn0Zr"
      },
      "source": [
        "## 範例：比較數字（三）:巢狀條件式\n",
        "\n",
        "In [6]: ## 巢狀條件式\n",
        "   ...: num_a = int(input(\"輸入第一個數字？ \"))\n",
        "   ...: num_b = int(input(\"輸入第二個數字？ \"))\n",
        "   ...: \n",
        "   ...: if num_a < 0:\n",
        "   ...: \tprint(\"第一個是負數\")\n",
        "   ...: \tif num_b < 0:\n",
        "   ...: \t\tprint(\"第二個也是負數\")\n",
        "   ...: print(\"比較完成\")\n",
        "\n",
        "輸入第一個數字？ 5\n",
        "\n",
        "輸入第二個數字？ 8\n",
        "比較完成\n",
        "\n",
        "In [7]: ## 非巢狀結構\n",
        "   ...: num_a = int(input(\"輸入第一個數字？ \"))\n",
        "   ...: num_b = int(input(\"輸入第二個數字？ \"))\n",
        "   ...: \n",
        "   ...: if num_a < 0:\n",
        "   ...: \tprint(\"第一個是負數\")\n",
        "   ...: if num_b < 0:\n",
        "   ...: \tprint(\"第二個是負數\")\n",
        "   ...: print(\"比較完成\")\n",
        "\n",
        "輸入第一個數字？ 5\n",
        "\n",
        "輸入第二個數字？ 8\n",
        "比較完成\n",
        "\n",
        "## 加分:請舉例說明這兩個程式的執行結果何時會不同?"
      ],
      "execution_count": null,
      "outputs": []
    },
    {
      "cell_type": "code",
      "metadata": {
        "id": "8dgJAmnHn0Zs",
        "colab": {
          "base_uri": "https://localhost:8080/"
        },
        "outputId": "d8eeada6-bb1a-4c72-838f-7ad674cf5765"
      },
      "source": [
        "a=5\n",
        "b=8\n",
        "if a < 0:\n",
        "  print(\"First is negative\")\n",
        "  if b < 0:\n",
        "   print(\"Second is negative\")\n",
        "print(\"Comparison one finished\")\n",
        "\n",
        "a=5\n",
        "b=8\n",
        "if a < 0:\n",
        "  print(\"First is negative\")\n",
        "if b < 0:\n",
        "  print(\"Second is negative\")\n",
        "print(\"Comparison one finished\")"
      ],
      "execution_count": 12,
      "outputs": [
        {
          "output_type": "stream",
          "text": [
            "Comparison one finished\n",
            "Comparison one finished\n"
          ],
          "name": "stdout"
        }
      ]
    },
    {
      "cell_type": "code",
      "metadata": {
        "id": "5G7YcUMIn0Zs"
      },
      "source": [
        "**範例：今晚要煮義大利麵嗎?**"
      ],
      "execution_count": null,
      "outputs": []
    },
    {
      "cell_type": "code",
      "metadata": {
        "id": "px_zBOKen0Zs"
      },
      "source": [
        "In [10]: ## 今晚吃義大利麵嗎？\n",
        "    ...: noodle = input(\"有麵嗎？ YES or NO: \")\n",
        "    ...: sauce = input(\"有醬料嗎？ YES or NO: \")\n",
        "    ...: \n",
        "    ...: ## 方法（一）\n",
        "    ...: if noodle==\"YES\" and sauce==\"YES\": # 真值表結果\n",
        "    ...: \tprint(\"今天晚上吃義大利麵\")\n",
        "\n",
        "有麵嗎？ YES or NO: YES\n",
        "\n",
        "有醬料嗎？ YES or NO: YES\n",
        "今天晚上吃義大利麵\n",
        "\n",
        "In [11]: ## 方法（二）\n",
        "    ...: if noodle == \"YES\":\n",
        "    ...: \tif sauce == \"YES\":\n",
        "    ...: \t\tprint(\"今天晚上吃義大利麵\")\n",
        "    ...:         \n",
        "今天晚上吃義大利麵"
      ],
      "execution_count": null,
      "outputs": []
    },
    {
      "cell_type": "markdown",
      "metadata": {
        "id": "iQn3zUX7n0Zt"
      },
      "source": [
        "## 2.  雙向選擇\n"
      ]
    },
    {
      "cell_type": "code",
      "metadata": {
        "id": "T5zpD2HDn0Zt"
      },
      "source": [
        "**範例: 判斷及格與不及格**\n",
        "\n",
        " In [1]: score = int(input('請輸入一個成績？'))\n",
        "    ...: if score >= 60:\n",
        "    ...:     print('有及格ㄡ～')\n",
        "    ...: else:\n",
        "    ...:     print('不及格ㄟ！')\n",
        "    ...:     \n",
        "\n",
        "請輸入一個成績？88\n",
        "有及格ㄡ～"
      ],
      "execution_count": null,
      "outputs": []
    },
    {
      "cell_type": "code",
      "metadata": {
        "id": "h6OXy3hBn0Zt",
        "colab": {
          "base_uri": "https://localhost:8080/"
        },
        "outputId": "896e2476-5ce6-4e45-b5b9-be68ce2f05af"
      },
      "source": [
        "score=48\n",
        "if score >= 60:\n",
        "  print(\"Pass\")\n",
        "else:\n",
        "  print(\"Fail\")"
      ],
      "execution_count": 13,
      "outputs": [
        {
          "output_type": "stream",
          "text": [
            "Fail\n"
          ],
          "name": "stdout"
        }
      ]
    },
    {
      "cell_type": "markdown",
      "metadata": {
        "id": "JUQshSAln0Zt"
      },
      "source": [
        "#### 隨堂練習: 滿2000 打九折\n",
        "\n",
        "**請寫一個程式幫助店家計算顧客所需付出的金額。**\n",
        "\n",
        "採買物品時，有時會遇到店家為了刺激消費，會使用滿額折扣。例如，滿2000 打九折，未滿2000 則不打折。"
      ]
    },
    {
      "cell_type": "code",
      "metadata": {
        "id": "PsvmhHtGn0Zu",
        "colab": {
          "base_uri": "https://localhost:8080/"
        },
        "outputId": "540d159d-7b69-490c-dce7-4f3c173f9166"
      },
      "source": [
        "cost=1990\n",
        "if cost >= 2000:\n",
        "  print(\"cost*0.9\")\n",
        "if cost < 2000:\n",
        "  print(\"cost\")\n",
        "print(\"不打折\")"
      ],
      "execution_count": 15,
      "outputs": [
        {
          "output_type": "stream",
          "text": [
            "cost\n",
            "不打折\n"
          ],
          "name": "stdout"
        }
      ]
    },
    {
      "cell_type": "code",
      "metadata": {
        "id": "07X1h_pYn0Zu"
      },
      "source": [
        "#### 範例 三角形判斷\n",
        "\n",
        "設計一個程式允許輸入三角形三邊長，分別為a、b 與c，根據三角形中任兩邊相加要大於第三邊，判斷是否為三角形。\n",
        "\n",
        "In [1]: a = int(input('請輸入三角形邊長a長度為？'))\n",
        "    ...: b = int(input('請輸入三角形邊長b長度為？'))\n",
        "    ...: c = int(input('請輸入三角形邊長c長度為？'))\n",
        "    ...: \n",
        "    ...: if (a < b + c)and(b < a + c)and( c < a + b):   #任兩邊相加是否大於第三邊\n",
        "    ...:     print('可構成三角形')\n",
        "    ...: else:\n",
        "    ...:     print('無法構成三角形')\n",
        "    ...:     \n",
        "\n",
        "請輸入三角形邊長a長度為？3\n",
        "\n",
        "請輸入三角形邊長b長度為？4\n",
        "\n",
        "請輸入三角形邊長c長度為？5\n",
        "可構成三角形"
      ],
      "execution_count": null,
      "outputs": []
    },
    {
      "cell_type": "code",
      "metadata": {
        "id": "EXSMkL0tn0Zu"
      },
      "source": [
        ""
      ],
      "execution_count": null,
      "outputs": []
    },
    {
      "cell_type": "markdown",
      "metadata": {
        "id": "JolgGZWyn0Zu"
      },
      "source": [
        "#### 隨堂練習: 判斷奇偶數\n",
        "\n",
        "請寫一個程式判斷輸入的值是奇數還是偶數。"
      ]
    },
    {
      "cell_type": "code",
      "metadata": {
        "id": "gPTzJicfn0Zv",
        "colab": {
          "base_uri": "https://localhost:8080/"
        },
        "outputId": "92a9a02c-8228-4ed6-e196-4b8835b5570c"
      },
      "source": [
        "num=7\n",
        "if num%2 == 0:\n",
        "  print(\"是偶數\")\n",
        "if num%2 == 1:\n",
        "  print(\"是奇數\")\n"
      ],
      "execution_count": 16,
      "outputs": [
        {
          "output_type": "stream",
          "text": [
            "是奇數\n"
          ],
          "name": "stdout"
        }
      ]
    },
    {
      "cell_type": "markdown",
      "metadata": {
        "id": "MNsUGDdin0Zv"
      },
      "source": [
        "## 3. 多向選擇\n"
      ]
    },
    {
      "cell_type": "code",
      "metadata": {
        "id": "crVngIeUn0Zv"
      },
      "source": [
        "#### 範例：兩個數比大小\n",
        "\n",
        "In [1]: ## Input\n",
        "    ...: num1 = int(input(\"Please input a number: \"))\n",
        "    ...: num2 = int(input(\"Please input another number: \"))\n",
        "    ...: \n",
        "    ...: ## Process＋ Output\n",
        "    ...: if num1 == num2:\n",
        "    ...:     print(num1, \"等於\", num2)\n",
        "    ...: elif num1 < num2:\n",
        "    ...:     print(num1, \"小於\", num2)\n",
        "    ...: else:\n",
        "    ...:     print(num1, \"大於\", num2)\n",
        "\n",
        "Please input a number: 5\n",
        "\n",
        "Please input another number: 8\n",
        "5 小於 8"
      ],
      "execution_count": null,
      "outputs": []
    },
    {
      "cell_type": "code",
      "metadata": {
        "id": "dvNHvaLgn0Zv"
      },
      "source": [
        ""
      ],
      "execution_count": null,
      "outputs": []
    },
    {
      "cell_type": "code",
      "metadata": {
        "id": "EmhTMh_an0Zw"
      },
      "source": [
        "#### 範例 : 郵資計算\n",
        "\n",
        "某快遞公司以重量為計算郵資的依據，重量與郵資計算如下表，請寫一個程式協助快遞人員計算郵資，快遞人員只要輸入重量，程式自動計算郵資。\n",
        "\n",
        "In [1]: ## 郵資計算\n",
        "    ...: w = float(input('請輸入物品重量？')) # Input\n",
        "    ...: \n",
        "    ...: if w <= 5:                          \n",
        "    ...:     print('所需郵資為50元')\n",
        "    ...: elif w <= 10:\n",
        "    ...:     print('所需郵資為70元')\n",
        "    ...: elif w <= 15:\n",
        "    ...:     print('所需郵資為90元')\n",
        "    ...: elif w <= 20:\n",
        "    ...:     print('所需郵資為110元')\n",
        "    ...: else:\n",
        "    ...:     print('超過20公斤無法寄送')\n",
        "\n",
        "請輸入物品重量？20\n",
        "所需郵資為110元"
      ],
      "execution_count": null,
      "outputs": []
    },
    {
      "cell_type": "code",
      "metadata": {
        "id": "0LaAjYuPn0Zw"
      },
      "source": [
        ""
      ],
      "execution_count": null,
      "outputs": []
    },
    {
      "cell_type": "markdown",
      "metadata": {
        "id": "LbLxuvrFn0Zw"
      },
      "source": [
        "#### 隨堂練習： BMI 計算\n",
        "\n",
        "**請寫一個程式讓使用者輸入身高與體重，顯示BMI 值與肥胖程度。**"
      ]
    },
    {
      "cell_type": "code",
      "metadata": {
        "id": "gp2Y-ltRn0Zw"
      },
      "source": [
        ""
      ],
      "execution_count": null,
      "outputs": []
    }
  ]
}