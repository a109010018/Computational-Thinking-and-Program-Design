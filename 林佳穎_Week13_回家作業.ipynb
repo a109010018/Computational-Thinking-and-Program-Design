{
  "nbformat": 4,
  "nbformat_minor": 0,
  "metadata": {
    "kernelspec": {
      "display_name": "Python 3",
      "language": "python",
      "name": "python3"
    },
    "language_info": {
      "codemirror_mode": {
        "name": "ipython",
        "version": 3
      },
      "file_extension": ".py",
      "mimetype": "text/x-python",
      "name": "python",
      "nbconvert_exporter": "python",
      "pygments_lexer": "ipython3",
      "version": "3.8.5"
    },
    "colab": {
      "name": "林佳穎-Week13-回家作業.ipynb",
      "provenance": [],
      "include_colab_link": true
    }
  },
  "cells": [
    {
      "cell_type": "markdown",
      "metadata": {
        "id": "view-in-github",
        "colab_type": "text"
      },
      "source": [
        "<a href=\"https://colab.research.google.com/github/a109010018/Computational-Thinking-and-Program-Design/blob/main/%E6%9E%97%E4%BD%B3%E7%A9%8E_Week13_%E5%9B%9E%E5%AE%B6%E4%BD%9C%E6%A5%AD.ipynb\" target=\"_parent\"><img src=\"https://colab.research.google.com/assets/colab-badge.svg\" alt=\"Open In Colab\"/></a>"
      ]
    },
    {
      "cell_type": "code",
      "metadata": {
        "id": "GPkcYvWR87dM"
      },
      "source": [
        ""
      ],
      "execution_count": null,
      "outputs": []
    },
    {
      "cell_type": "markdown",
      "metadata": {
        "id": "riY96e1HpSZk"
      },
      "source": [
        "**隨堂練習1： BMI 計算**\n",
        "\n",
        "請寫一個程式讓使用者輸入身高與體重，顯示BMI 值與肥胖程度。 BMI 等於體重（KG）除以身高（M）的平方，而BMI 與肥胖分類標準如下：\n",
        "\n",
        "若BMI 值小於18，則顯示「體重過輕」，否則若BMI 值小於24，則顯示「體重正常」，若BMI 值小於27，則顯示「體重過重」，否則顯示「體重肥胖」。"
      ]
    },
    {
      "cell_type": "code",
      "metadata": {
        "id": "VfWFEYuZpSZn",
        "colab": {
          "base_uri": "https://localhost:8080/"
        },
        "outputId": "97d9e91c-112b-45f5-9353-ccaded24b4ca"
      },
      "source": [
        "w=float(input(\"輸入體重?\"))\n",
        "h=float(input(\"輸入身高?\"))\n",
        "bmi = w/(h*h)\n",
        "if bmi <= 18:\n",
        "  print(\"過輕\")\n",
        "elif bmi <= 24:\n",
        "  print(\"正常\")\n",
        "elif bmi <= 27:\n",
        "  print(\"過重\")\n",
        "elif bmi > 27:\n",
        "  print(\"肥胖\")"
      ],
      "execution_count": 1,
      "outputs": [
        {
          "output_type": "stream",
          "text": [
            "輸入體重?48\n",
            "輸入身高?161\n",
            "過輕\n"
          ],
          "name": "stdout"
        }
      ]
    },
    {
      "cell_type": "markdown",
      "metadata": {
        "id": "DVOV3BYBpSZo"
      },
      "source": [
        "**隨堂練習2： 三一律(單向選擇、雙向與巢狀選擇、多向選擇)**\n",
        "\n",
        "請輸入一個數，然後判斷這個數是正數、是負數或者是零。"
      ]
    },
    {
      "cell_type": "code",
      "metadata": {
        "id": "LPn6p33NpSZp",
        "colab": {
          "base_uri": "https://localhost:8080/"
        },
        "outputId": "24da3485-0919-419c-d28f-e420881ba316"
      },
      "source": [
        "number=int(input(\"輸入一個數\"))\n",
        "if number > 0:\n",
        "  print(\"正數\")\n",
        "if number == 0:\n",
        "  print(\"零\")\n",
        "if number < 0:\n",
        "  print(\"負數\")"
      ],
      "execution_count": 2,
      "outputs": [
        {
          "output_type": "stream",
          "text": [
            "輸入一個數2\n",
            "正數\n"
          ],
          "name": "stdout"
        }
      ]
    },
    {
      "cell_type": "markdown",
      "metadata": {
        "id": "x_IlNwlNpSZp"
      },
      "source": [
        "**練習5   體溫與發燒**\n",
        "\n",
        "設計程式根據體溫判斷是否發燒，由使用者輸入體溫，程式判斷是否發燒，假設體溫小於36度，顯示「體溫過低」，體溫大於等於36度小於38度，顯示「體溫正常」，否則若體溫大於等於38度小於39度，顯示「體溫有點燒」，否則體溫大於等於39度，顯示「體溫很燒」。\n",
        "\n",
        "輸入體溫「36.5」，輸出為「體溫正常」。\n",
        "\n",
        "～程式執行結果如下。\n",
        "\n",
        "請輸入體溫？36.5\n",
        "\n",
        "體溫正常"
      ]
    },
    {
      "cell_type": "code",
      "metadata": {
        "id": "WlpkQ54FpSZq",
        "colab": {
          "base_uri": "https://localhost:8080/"
        },
        "outputId": "455b2ad6-4743-4866-8acd-f9335b6e2955"
      },
      "source": [
        "temperature=eval(input(\"體溫多少度?\"))\n",
        "if temperature < 36:\n",
        "  print(\"體溫過低\")\n",
        "if 36 <= temperature < 38:\n",
        "  print(\"體溫正常\") \n",
        "if 38 <= temperature < 39:\n",
        "  print(\"體溫有點燒\")\n",
        "if temperature >= 39:\n",
        "  print(\"體溫很燒\")\n",
        "if temperature == 36.5:\n",
        "  print(\"體溫正常\")"
      ],
      "execution_count": 7,
      "outputs": [
        {
          "output_type": "stream",
          "text": [
            "體溫多少度?38.2\n",
            "體溫有點燒\n"
          ],
          "name": "stdout"
        }
      ]
    },
    {
      "cell_type": "markdown",
      "metadata": {
        "id": "A1qif-8NpSZq"
      },
      "source": [
        "**練習6  閏年判斷**\n",
        "\n",
        "設計程式允許輸入西元幾年，請求出該年是否是閏年，閏年表示該年多一天，若為4的倍數稱做閏年，但若為100的倍數就不為閏年，且若為400倍數又是閏年。(四年一潤、百年不潤、四百年再潤)\n",
        "\n",
        "輸入年份「2012」，輸出為「2012是閏年」。\n",
        "\n",
        "～程式執行結果如下。\n",
        "\n",
        "請輸入年份？2012\n",
        "\n",
        "2012 是閏年"
      ]
    },
    {
      "cell_type": "code",
      "metadata": {
        "id": "g4PDmGgOpSZq",
        "colab": {
          "base_uri": "https://localhost:8080/"
        },
        "outputId": "2b7676d6-2f86-415b-fe2e-ff2ae434e5e2"
      },
      "source": [
        "year=int(input(\"今年是西元多少年?\"))\n",
        "if year/4==0:\n",
        "  print(\"今年是閏年\")\n",
        "if year/100==0:\n",
        "  print(\"今年不是閏年\")\n",
        "if year/400==0:\n",
        "  print(\"今年是閏年\")\n",
        "  "
      ],
      "execution_count": 11,
      "outputs": [
        {
          "output_type": "stream",
          "text": [
            "今年是西元多少年?2021\n"
          ],
          "name": "stdout"
        }
      ]
    },
    {
      "cell_type": "markdown",
      "metadata": {
        "id": "tIhc-9sHpSZr"
      },
      "source": [
        "**練習12：計程車計費**\n",
        "\n",
        "某城市計程車計費3公里以內6元，超過3公里不足10公里、每公里1.8元，超過10公里則超過部分加收50%。此外停車等候每3分鐘收1元，請用Python寫出車費是多少。"
      ]
    },
    {
      "cell_type": "code",
      "metadata": {
        "id": "LK9vG50hpSZr"
      },
      "source": [
        "km=eval(input(\"開了幾公里?\"))\n",
        "if km <= 3:\n",
        "  print(\"車費6元\")\n",
        "if 3 < km < 10:\n",
        "  車費= km/1.8:\n",
        "  print(\"車費\"元)\n",
        "if km > 10\n",
        "  "
      ],
      "execution_count": 11,
      "outputs": []
    },
    {
      "cell_type": "code",
      "metadata": {
        "id": "h5HNAx9KpSZr"
      },
      "source": [
        ""
      ],
      "execution_count": 11,
      "outputs": []
    }
  ]
}