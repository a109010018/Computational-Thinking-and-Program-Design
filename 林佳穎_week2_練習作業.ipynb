{
  "nbformat": 4,
  "nbformat_minor": 0,
  "metadata": {
    "colab": {
      "name": "林佳穎-week2-練習作業.ipynb",
      "provenance": [],
      "authorship_tag": "ABX9TyOzqfW9pIitf7PRNHTMyYSl",
      "include_colab_link": true
    },
    "kernelspec": {
      "name": "python3",
      "display_name": "Python 3"
    }
  },
  "cells": [
    {
      "cell_type": "markdown",
      "metadata": {
        "id": "view-in-github",
        "colab_type": "text"
      },
      "source": [
        "<a href=\"https://colab.research.google.com/github/a109010018/Computational-Thinking-and-Program-Design/blob/main/%E6%9E%97%E4%BD%B3%E7%A9%8E_week2_%E7%B7%B4%E7%BF%92%E4%BD%9C%E6%A5%AD.ipynb\" target=\"_parent\"><img src=\"https://colab.research.google.com/assets/colab-badge.svg\" alt=\"Open In Colab\"/></a>"
      ]
    },
    {
      "cell_type": "code",
      "metadata": {
        "colab": {
          "base_uri": "https://localhost:8080/"
        },
        "id": "0dsj9S0cTPx2",
        "outputId": "fe33b641-7eed-4bd0-a934-29bf35d97e7d"
      },
      "source": [
        "print(1+1)"
      ],
      "execution_count": null,
      "outputs": [
        {
          "output_type": "stream",
          "text": [
            "2\n"
          ],
          "name": "stdout"
        }
      ]
    },
    {
      "cell_type": "markdown",
      "metadata": {
        "id": "Tx43XQi0YT7O"
      },
      "source": [
        "Google Colab 操作步驟\r\n",
        "step1: 前往 https://colab.research.google.com/，並⽤Gmail登錄。\r\n",
        "\r\n",
        "step2: 點選 NEW NOTEBOOK\r\n",
        "修改檔案名稱（⽥弘華-Week2-練習作業.ipynb）\r\n",
        "\r\n",
        "step3:撰寫程式\r\n",
        "寫指令/寫文字 執⾏程式，Ctrl/Shift + Enter（點選三⾓形前進符號） 儲存檔案，Ctrl+S (菜單中的File->儲存(Github/Google Drive))"
      ]
    },
    {
      "cell_type": "code",
      "metadata": {
        "colab": {
          "base_uri": "https://localhost:8080/"
        },
        "id": "BmsMeH6qUDYl",
        "outputId": "e2bdfdc4-5def-4305-f4bb-843351023e4d"
      },
      "source": [
        "print(\"Hello World\")"
      ],
      "execution_count": null,
      "outputs": [
        {
          "output_type": "stream",
          "text": [
            "Hello World\n"
          ],
          "name": "stdout"
        }
      ]
    },
    {
      "cell_type": "code",
      "metadata": {
        "id": "JNDbcvCoUfP4"
      },
      "source": [
        ""
      ],
      "execution_count": null,
      "outputs": []
    }
  ]
}