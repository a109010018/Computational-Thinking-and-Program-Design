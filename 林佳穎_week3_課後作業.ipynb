{
  "nbformat": 4,
  "nbformat_minor": 0,
  "metadata": {
    "colab": {
      "name": "林佳穎-week3-課後作業.ipynb",
      "provenance": [],
      "authorship_tag": "ABX9TyN2vdWtTxlipes2wyzgdaop",
      "include_colab_link": true
    },
    "kernelspec": {
      "name": "python3",
      "display_name": "Python 3"
    }
  },
  "cells": [
    {
      "cell_type": "markdown",
      "metadata": {
        "id": "view-in-github",
        "colab_type": "text"
      },
      "source": [
        "<a href=\"https://colab.research.google.com/github/a109010018/Computational-Thinking-and-Program-Design/blob/main/%E6%9E%97%E4%BD%B3%E7%A9%8E_week3_%E8%AA%B2%E5%BE%8C%E4%BD%9C%E6%A5%AD.ipynb\" target=\"_parent\"><img src=\"https://colab.research.google.com/assets/colab-badge.svg\" alt=\"Open In Colab\"/></a>"
      ]
    },
    {
      "cell_type": "markdown",
      "metadata": {
        "id": "AxZ-RjBPNG6N"
      },
      "source": [
        "#隨堂練習"
      ]
    },
    {
      "cell_type": "markdown",
      "metadata": {
        "id": "S83F9OG0dzUL"
      },
      "source": [
        "1.認識電腦\r\n",
        "2.為何要學程式設計\r\n",
        "3.用運算思維解決問題\r\n",
        "4.運用程式設計結合運算思維解決日常生活的問題(專業知識與普通常識)\r\n",
        "5.用電腦解決問題"
      ]
    },
    {
      "cell_type": "markdown",
      "metadata": {
        "id": "bBIqJmRdeApr"
      },
      "source": [
        "認識電腦的四個步驟\r\n",
        "Step1: 運算思維 - Problem Analysis \r\n",
        "Step2: Program Design 程式設計 \r\n",
        "Step3: Program Implementation - Coding 撰寫程式 \r\n",
        "Step 4. Test and Debug - Testing 測試與除錯 "
      ]
    },
    {
      "cell_type": "markdown",
      "metadata": {
        "id": "qPp98pEkOKf6"
      },
      "source": [
        "#課後練習"
      ]
    },
    {
      "cell_type": "markdown",
      "metadata": {
        "id": "JpInz_1HdyBt"
      },
      "source": [
        ""
      ]
    },
    {
      "cell_type": "markdown",
      "metadata": {
        "id": "5cZRmNdmOdBb"
      },
      "source": [
        "課後練習則為從一則新聞報導，提出你對新聞系（OO系）學生為什麼要學「運算思維與程式設計」的見解。（告訴我新聞連結，以及你的觀點即可。）"
      ]
    },
    {
      "cell_type": "markdown",
      "metadata": {
        "id": "xACPzxDAXkub"
      },
      "source": [
        "連結:https://www.gvm.com.tw/article/77911\r\n",
        "AI時代來臨，代表年輕世代面臨的是人工智慧這類軟體的概念技術，而需要的技術能力，無關乎是否出身理工學院，而是經由學習程式設計相關課程，獲得「AI思維」 ，也就是分析的能力，而我想新聞系出身的我們，也特別需要有這項分析與解決問題的能力，像是編輯在整合金融類相關資訊，就需要分析股市走向及分析大數據問題，才能讓報導可信。我想如同此篇報導所說，社會不僅需要理工科系這類技術人才，文法商這類運用程式能力與資訊素養解決問題，分析數據的人才也是必不可缺的。"
      ]
    },
    {
      "cell_type": "code",
      "metadata": {
        "id": "UrYawfKGOOoi"
      },
      "source": [
        ""
      ],
      "execution_count": null,
      "outputs": []
    }
  ]
}